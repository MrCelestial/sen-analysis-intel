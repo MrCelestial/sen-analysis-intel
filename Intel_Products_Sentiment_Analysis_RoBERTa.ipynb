{
 "cells": [
  {
   "cell_type": "markdown",
   "id": "94921497",
   "metadata": {},
   "source": [
    "# Intel Products Sentiment Analysis"
   ]
  },
  {
   "cell_type": "markdown",
   "id": "f0333672",
   "metadata": {},
   "source": [
    "## Introduction"
   ]
  },
  {
   "cell_type": "markdown",
   "id": "4f15038f",
   "metadata": {},
   "source": [
    "\n",
    "This notebook provides a comprehensive sentiment analysis of Intel product reviews scraped from various online sources. \n",
    "The goal is to clean the data, analyze the sentiment of the reviews using RoBERTa, and provide actionable insights and recommendations for improving Intel products based on customer feedback.\n"
   ]
  },
  {
   "cell_type": "markdown",
   "id": "28668b6c",
   "metadata": {},
   "source": [
    "## Data Cleaning"
   ]
  },
  {
   "cell_type": "code",
   "execution_count": 13,
   "id": "5da3653a",
   "metadata": {},
   "outputs": [
    {
     "data": {
      "text/html": [
       "<div>\n",
       "<style scoped>\n",
       "    .dataframe tbody tr th:only-of-type {\n",
       "        vertical-align: middle;\n",
       "    }\n",
       "\n",
       "    .dataframe tbody tr th {\n",
       "        vertical-align: top;\n",
       "    }\n",
       "\n",
       "    .dataframe thead th {\n",
       "        text-align: right;\n",
       "    }\n",
       "</style>\n",
       "<table border=\"1\" class=\"dataframe\">\n",
       "  <thead>\n",
       "    <tr style=\"text-align: right;\">\n",
       "      <th></th>\n",
       "      <th>rating</th>\n",
       "      <th>content</th>\n",
       "      <th>variant</th>\n",
       "      <th>name</th>\n",
       "      <th>date</th>\n",
       "      <th>verified</th>\n",
       "      <th>sub_reviews</th>\n",
       "    </tr>\n",
       "  </thead>\n",
       "  <tbody>\n",
       "    <tr>\n",
       "      <th>0</th>\n",
       "      <td>NaN</td>\n",
       "      <td>No doubt, 12th gen Intel processors are a marv...</td>\n",
       "      <td>Style Name: Processor OnlyVerified Purchase</td>\n",
       "      <td>Anish Roy</td>\n",
       "      <td>Reviewed in India on 28 June 2022</td>\n",
       "      <td>True</td>\n",
       "      <td>[]</td>\n",
       "    </tr>\n",
       "    <tr>\n",
       "      <th>1</th>\n",
       "      <td>NaN</td>\n",
       "      <td>I have paired this processor with Asus Prime Z...</td>\n",
       "      <td>Style Name: Processor Only</td>\n",
       "      <td>Maxrock89</td>\n",
       "      <td>Reviewed in India on 29 March 2022</td>\n",
       "      <td>False</td>\n",
       "      <td>[]</td>\n",
       "    </tr>\n",
       "    <tr>\n",
       "      <th>2</th>\n",
       "      <td>NaN</td>\n",
       "      <td>自分のCPUが結構古いので、12年ぶりにアップグレードしました。\\n最初はRYZENに迷って...</td>\n",
       "      <td>Style Name: Processor OnlyVerified Purchase</td>\n",
       "      <td>Andy</td>\n",
       "      <td>Reviewed in Japan on 25 May 2023</td>\n",
       "      <td>True</td>\n",
       "      <td>[]</td>\n",
       "    </tr>\n",
       "    <tr>\n",
       "      <th>3</th>\n",
       "      <td>NaN</td>\n",
       "      <td>Processore eccellente, montato sul pc perfetta...</td>\n",
       "      <td>Style Name: Processor OnlyVerified Purchase</td>\n",
       "      <td>Nicolo</td>\n",
       "      <td>Reviewed in Italy on 13 February 2024</td>\n",
       "      <td>True</td>\n",
       "      <td>[]</td>\n",
       "    </tr>\n",
       "    <tr>\n",
       "      <th>4</th>\n",
       "      <td>NaN</td>\n",
       "      <td>Does exactly what it's supposed to do, my comp...</td>\n",
       "      <td>Style Name: Processor OnlyVerified Purchase</td>\n",
       "      <td>Allan</td>\n",
       "      <td>Reviewed in Canada on 23 May 2024</td>\n",
       "      <td>True</td>\n",
       "      <td>[]</td>\n",
       "    </tr>\n",
       "  </tbody>\n",
       "</table>\n",
       "</div>"
      ],
      "text/plain": [
       "   rating                                            content  \\\n",
       "0     NaN  No doubt, 12th gen Intel processors are a marv...   \n",
       "1     NaN  I have paired this processor with Asus Prime Z...   \n",
       "2     NaN  自分のCPUが結構古いので、12年ぶりにアップグレードしました。\\n最初はRYZENに迷って...   \n",
       "3     NaN  Processore eccellente, montato sul pc perfetta...   \n",
       "4     NaN  Does exactly what it's supposed to do, my comp...   \n",
       "\n",
       "                                       variant       name  \\\n",
       "0  Style Name: Processor OnlyVerified Purchase  Anish Roy   \n",
       "1                   Style Name: Processor Only  Maxrock89   \n",
       "2  Style Name: Processor OnlyVerified Purchase       Andy   \n",
       "3  Style Name: Processor OnlyVerified Purchase     Nicolo   \n",
       "4  Style Name: Processor OnlyVerified Purchase      Allan   \n",
       "\n",
       "                                    date  verified sub_reviews  \n",
       "0      Reviewed in India on 28 June 2022      True          []  \n",
       "1     Reviewed in India on 29 March 2022     False          []  \n",
       "2       Reviewed in Japan on 25 May 2023      True          []  \n",
       "3  Reviewed in Italy on 13 February 2024      True          []  \n",
       "4      Reviewed in Canada on 23 May 2024      True          []  "
      ]
     },
     "execution_count": 13,
     "metadata": {},
     "output_type": "execute_result"
    }
   ],
   "source": [
    "\n",
    "import pandas as pd\n",
    "import re\n",
    "\n",
    "file_path = 'reviews.csv'\n",
    "reviews_df = pd.read_csv(file_path)\n",
    "\n",
    "reviews_df.head()\n"
   ]
  },
  {
   "cell_type": "markdown",
   "id": "8a336238",
   "metadata": {},
   "source": [
    "\n",
    "### Handling Missing Values\n",
    "We'll remove rows with missing values in the 'content' column to ensure we have complete data for analysis.\n"
   ]
  },
  {
   "cell_type": "code",
   "execution_count": 14,
   "id": "7ac1d599",
   "metadata": {},
   "outputs": [
    {
     "data": {
      "text/html": [
       "<div>\n",
       "<style scoped>\n",
       "    .dataframe tbody tr th:only-of-type {\n",
       "        vertical-align: middle;\n",
       "    }\n",
       "\n",
       "    .dataframe tbody tr th {\n",
       "        vertical-align: top;\n",
       "    }\n",
       "\n",
       "    .dataframe thead th {\n",
       "        text-align: right;\n",
       "    }\n",
       "</style>\n",
       "<table border=\"1\" class=\"dataframe\">\n",
       "  <thead>\n",
       "    <tr style=\"text-align: right;\">\n",
       "      <th></th>\n",
       "      <th>rating</th>\n",
       "      <th>content</th>\n",
       "      <th>variant</th>\n",
       "      <th>name</th>\n",
       "      <th>date</th>\n",
       "      <th>verified</th>\n",
       "      <th>sub_reviews</th>\n",
       "    </tr>\n",
       "  </thead>\n",
       "  <tbody>\n",
       "    <tr>\n",
       "      <th>0</th>\n",
       "      <td>NaN</td>\n",
       "      <td>No doubt, 12th gen Intel processors are a marv...</td>\n",
       "      <td>Style Name: Processor OnlyVerified Purchase</td>\n",
       "      <td>Anish Roy</td>\n",
       "      <td>Reviewed in India on 28 June 2022</td>\n",
       "      <td>True</td>\n",
       "      <td>[]</td>\n",
       "    </tr>\n",
       "    <tr>\n",
       "      <th>1</th>\n",
       "      <td>NaN</td>\n",
       "      <td>I have paired this processor with Asus Prime Z...</td>\n",
       "      <td>Style Name: Processor Only</td>\n",
       "      <td>Maxrock89</td>\n",
       "      <td>Reviewed in India on 29 March 2022</td>\n",
       "      <td>False</td>\n",
       "      <td>[]</td>\n",
       "    </tr>\n",
       "    <tr>\n",
       "      <th>2</th>\n",
       "      <td>NaN</td>\n",
       "      <td>自分のCPUが結構古いので、12年ぶりにアップグレードしました。\\n最初はRYZENに迷って...</td>\n",
       "      <td>Style Name: Processor OnlyVerified Purchase</td>\n",
       "      <td>Andy</td>\n",
       "      <td>Reviewed in Japan on 25 May 2023</td>\n",
       "      <td>True</td>\n",
       "      <td>[]</td>\n",
       "    </tr>\n",
       "    <tr>\n",
       "      <th>3</th>\n",
       "      <td>NaN</td>\n",
       "      <td>Processore eccellente, montato sul pc perfetta...</td>\n",
       "      <td>Style Name: Processor OnlyVerified Purchase</td>\n",
       "      <td>Nicolo</td>\n",
       "      <td>Reviewed in Italy on 13 February 2024</td>\n",
       "      <td>True</td>\n",
       "      <td>[]</td>\n",
       "    </tr>\n",
       "    <tr>\n",
       "      <th>4</th>\n",
       "      <td>NaN</td>\n",
       "      <td>Does exactly what it's supposed to do, my comp...</td>\n",
       "      <td>Style Name: Processor OnlyVerified Purchase</td>\n",
       "      <td>Allan</td>\n",
       "      <td>Reviewed in Canada on 23 May 2024</td>\n",
       "      <td>True</td>\n",
       "      <td>[]</td>\n",
       "    </tr>\n",
       "  </tbody>\n",
       "</table>\n",
       "</div>"
      ],
      "text/plain": [
       "   rating                                            content  \\\n",
       "0     NaN  No doubt, 12th gen Intel processors are a marv...   \n",
       "1     NaN  I have paired this processor with Asus Prime Z...   \n",
       "2     NaN  自分のCPUが結構古いので、12年ぶりにアップグレードしました。\\n最初はRYZENに迷って...   \n",
       "3     NaN  Processore eccellente, montato sul pc perfetta...   \n",
       "4     NaN  Does exactly what it's supposed to do, my comp...   \n",
       "\n",
       "                                       variant       name  \\\n",
       "0  Style Name: Processor OnlyVerified Purchase  Anish Roy   \n",
       "1                   Style Name: Processor Only  Maxrock89   \n",
       "2  Style Name: Processor OnlyVerified Purchase       Andy   \n",
       "3  Style Name: Processor OnlyVerified Purchase     Nicolo   \n",
       "4  Style Name: Processor OnlyVerified Purchase      Allan   \n",
       "\n",
       "                                    date  verified sub_reviews  \n",
       "0      Reviewed in India on 28 June 2022      True          []  \n",
       "1     Reviewed in India on 29 March 2022     False          []  \n",
       "2       Reviewed in Japan on 25 May 2023      True          []  \n",
       "3  Reviewed in Italy on 13 February 2024      True          []  \n",
       "4      Reviewed in Canada on 23 May 2024      True          []  "
      ]
     },
     "execution_count": 14,
     "metadata": {},
     "output_type": "execute_result"
    }
   ],
   "source": [
    "reviews_df = reviews_df.dropna(subset=['content'])\n",
    "reviews_df.head()\n"
   ]
  },
  {
   "cell_type": "markdown",
   "id": "fefdb2b2",
   "metadata": {},
   "source": [
    "\n",
    "### Text Cleaning\n",
    "We'll clean the text by converting it to lowercase, removing newlines, and removing punctuation.\n"
   ]
  },
  {
   "cell_type": "code",
   "execution_count": 15,
   "id": "30e33800",
   "metadata": {},
   "outputs": [
    {
     "data": {
      "text/html": [
       "<div>\n",
       "<style scoped>\n",
       "    .dataframe tbody tr th:only-of-type {\n",
       "        vertical-align: middle;\n",
       "    }\n",
       "\n",
       "    .dataframe tbody tr th {\n",
       "        vertical-align: top;\n",
       "    }\n",
       "\n",
       "    .dataframe thead th {\n",
       "        text-align: right;\n",
       "    }\n",
       "</style>\n",
       "<table border=\"1\" class=\"dataframe\">\n",
       "  <thead>\n",
       "    <tr style=\"text-align: right;\">\n",
       "      <th></th>\n",
       "      <th>content</th>\n",
       "      <th>cleaned_content</th>\n",
       "    </tr>\n",
       "  </thead>\n",
       "  <tbody>\n",
       "    <tr>\n",
       "      <th>0</th>\n",
       "      <td>No doubt, 12th gen Intel processors are a marv...</td>\n",
       "      <td>no doubt 12th gen intel processors are a marve...</td>\n",
       "    </tr>\n",
       "    <tr>\n",
       "      <th>1</th>\n",
       "      <td>I have paired this processor with Asus Prime Z...</td>\n",
       "      <td>i have paired this processor with asus prime z...</td>\n",
       "    </tr>\n",
       "    <tr>\n",
       "      <th>2</th>\n",
       "      <td>自分のCPUが結構古いので、12年ぶりにアップグレードしました。\\n最初はRYZENに迷って...</td>\n",
       "      <td>cpu12 ryzen   ryzencpu pc</td>\n",
       "    </tr>\n",
       "    <tr>\n",
       "      <th>3</th>\n",
       "      <td>Processore eccellente, montato sul pc perfetta...</td>\n",
       "      <td>processore eccellente montato sul pc perfettam...</td>\n",
       "    </tr>\n",
       "    <tr>\n",
       "      <th>4</th>\n",
       "      <td>Does exactly what it's supposed to do, my comp...</td>\n",
       "      <td>does exactly what its supposed to do my comput...</td>\n",
       "    </tr>\n",
       "  </tbody>\n",
       "</table>\n",
       "</div>"
      ],
      "text/plain": [
       "                                             content  \\\n",
       "0  No doubt, 12th gen Intel processors are a marv...   \n",
       "1  I have paired this processor with Asus Prime Z...   \n",
       "2  自分のCPUが結構古いので、12年ぶりにアップグレードしました。\\n最初はRYZENに迷って...   \n",
       "3  Processore eccellente, montato sul pc perfetta...   \n",
       "4  Does exactly what it's supposed to do, my comp...   \n",
       "\n",
       "                                     cleaned_content  \n",
       "0  no doubt 12th gen intel processors are a marve...  \n",
       "1  i have paired this processor with asus prime z...  \n",
       "2                          cpu12 ryzen   ryzencpu pc  \n",
       "3  processore eccellente montato sul pc perfettam...  \n",
       "4  does exactly what its supposed to do my comput...  "
      ]
     },
     "execution_count": 15,
     "metadata": {},
     "output_type": "execute_result"
    }
   ],
   "source": [
    "\n",
    "def clean_text(text):\n",
    "    text = text.lower()  \n",
    "    text = re.sub(r'\\n', ' ', text)  \n",
    "    text = re.sub(r'[^a-z0-9\\s]', '', text)  \n",
    "    return text\n",
    "\n",
    "reviews_df['cleaned_content'] = reviews_df['content'].apply(clean_text)\n",
    "\n",
    "reviews_df[['content', 'cleaned_content']].head()\n"
   ]
  },
  {
   "cell_type": "markdown",
   "id": "f29be81b",
   "metadata": {},
   "source": [
    "## Sentiment Analysis with RoBERTa"
   ]
  },
  {
   "cell_type": "code",
   "execution_count": 16,
   "id": "936016bd",
   "metadata": {},
   "outputs": [
    {
     "name": "stderr",
     "output_type": "stream",
     "text": [
      "All model checkpoint layers were used when initializing TFRobertaForSequenceClassification.\n",
      "\n",
      "All the layers of TFRobertaForSequenceClassification were initialized from the model checkpoint at cardiffnlp/twitter-roberta-base-sentiment.\n",
      "If your task is similar to the task the model of the checkpoint was trained on, you can already use TFRobertaForSequenceClassification for predictions without further training.\n"
     ]
    },
    {
     "data": {
      "text/html": [
       "<div>\n",
       "<style scoped>\n",
       "    .dataframe tbody tr th:only-of-type {\n",
       "        vertical-align: middle;\n",
       "    }\n",
       "\n",
       "    .dataframe tbody tr th {\n",
       "        vertical-align: top;\n",
       "    }\n",
       "\n",
       "    .dataframe thead th {\n",
       "        text-align: right;\n",
       "    }\n",
       "</style>\n",
       "<table border=\"1\" class=\"dataframe\">\n",
       "  <thead>\n",
       "    <tr style=\"text-align: right;\">\n",
       "      <th></th>\n",
       "      <th>cleaned_content</th>\n",
       "      <th>sentiment</th>\n",
       "    </tr>\n",
       "  </thead>\n",
       "  <tbody>\n",
       "    <tr>\n",
       "      <th>0</th>\n",
       "      <td>no doubt 12th gen intel processors are a marve...</td>\n",
       "      <td>label_2</td>\n",
       "    </tr>\n",
       "    <tr>\n",
       "      <th>1</th>\n",
       "      <td>i have paired this processor with asus prime z...</td>\n",
       "      <td>label_2</td>\n",
       "    </tr>\n",
       "    <tr>\n",
       "      <th>2</th>\n",
       "      <td>cpu12 ryzen   ryzencpu pc</td>\n",
       "      <td>label_1</td>\n",
       "    </tr>\n",
       "    <tr>\n",
       "      <th>3</th>\n",
       "      <td>processore eccellente montato sul pc perfettam...</td>\n",
       "      <td>label_1</td>\n",
       "    </tr>\n",
       "    <tr>\n",
       "      <th>4</th>\n",
       "      <td>does exactly what its supposed to do my comput...</td>\n",
       "      <td>label_2</td>\n",
       "    </tr>\n",
       "  </tbody>\n",
       "</table>\n",
       "</div>"
      ],
      "text/plain": [
       "                                     cleaned_content sentiment\n",
       "0  no doubt 12th gen intel processors are a marve...   label_2\n",
       "1  i have paired this processor with asus prime z...   label_2\n",
       "2                          cpu12 ryzen   ryzencpu pc   label_1\n",
       "3  processore eccellente montato sul pc perfettam...   label_1\n",
       "4  does exactly what its supposed to do my comput...   label_2"
      ]
     },
     "execution_count": 16,
     "metadata": {},
     "output_type": "execute_result"
    }
   ],
   "source": [
    "\n",
    "from transformers import pipeline\n",
    "\n",
    "sentiment_model = pipeline('sentiment-analysis', model='cardiffnlp/twitter-roberta-base-sentiment')\n",
    "\n",
    "def analyze_sentiment_roberta(text):\n",
    "    result = sentiment_model(text, truncation=True, max_length=512)\n",
    "    return result[0]['label'].lower()\n",
    "\n",
    "reviews_df['sentiment'] = reviews_df['cleaned_content'].apply(analyze_sentiment_roberta)\n",
    "\n",
    "reviews_df[['cleaned_content', 'sentiment']].head()\n"
   ]
  },
  {
   "cell_type": "markdown",
   "id": "2e8fc55d",
   "metadata": {},
   "source": [
    "## Sentiment Distribution"
   ]
  },
  {
   "cell_type": "code",
   "execution_count": 17,
   "id": "a4ae533f",
   "metadata": {},
   "outputs": [
    {
     "data": {
      "image/png": "[encoded data removed]",
      "text/plain": [
       "<Figure size 800x600 with 1 Axes>"
      ]
     },
     "metadata": {},
     "output_type": "display_data"
    },
    {
     "data": {
      "text/plain": [
       "sentiment\n",
       "label_1    1008\n",
       "label_2     951\n",
       "label_0     120\n",
       "Name: count, dtype: int64"
      ]
     },
     "execution_count": 17,
     "metadata": {},
     "output_type": "execute_result"
    }
   ],
   "source": [
    "\n",
    "import matplotlib.pyplot as plt\n",
    "\n",
    "sentiment_counts = reviews_df['sentiment'].value_counts()\n",
    "\n",
    "plt.figure(figsize=(8, 6))\n",
    "sentiment_counts.plot(kind='bar', color=['green', 'red', 'gray'])\n",
    "plt.title('Sentiment Distribution of Intel Product Reviews')\n",
    "plt.xlabel('Sentiment')\n",
    "plt.ylabel('Number of Reviews')\n",
    "plt.xticks(rotation=0)\n",
    "plt.show()\n",
    "\n",
    "sentiment_counts\n"
   ]
  },
  {
   "cell_type": "markdown",
   "id": "6e2d20cd",
   "metadata": {},
   "source": [
    "## Insights and Recommendations"
   ]
  },
  {
   "cell_type": "markdown",
   "id": "e2e94317",
   "metadata": {},
   "source": [
    "\n",
    "### Sentiment Distribution\n",
    "\n",
    "- **Positive Reviews**: The majority of the reviews are positive, indicating a generally favorable perception of Intel products among customers.\n",
    "- **Neutral Reviews**: A significant number of reviews are neutral, suggesting areas where improvements or more detailed feedback might be provided.\n",
    "- **Negative Reviews**: Although relatively few, negative reviews highlight areas where customers are dissatisfied.\n",
    "\n",
    "### Recommendations\n",
    "\n",
    "1. **Strengthen Positives**: Leverage the aspects customers are happy with, such as performance and compatibility, to market the products more effectively.\n",
    "2. **Address Neutral Feedback**: Investigate the neutral reviews to understand what might be missing or unclear. Provide more detailed product information and support to convert neutral feedback into positive.\n",
    "3. **Improve Negatives**: Focus on the areas highlighted in negative reviews. Common issues might include product quality, customer service, or specific features that need improvement.\n"
   ]
  },
  {
   "cell_type": "markdown",
   "id": "f7365d19",
   "metadata": {},
   "source": [
    "## Conclusion"
   ]
  },
  {
   "cell_type": "markdown",
   "id": "c9d0afe1",
   "metadata": {},
   "source": [
    "\n",
    "This sentiment analysis of Intel product reviews provides valuable insights into customer perceptions and areas for improvement. By addressing the feedback, Intel can enhance customer satisfaction and product quality.\n"
   ]
  }
 ],
 "metadata": {
  "language_info": {
   "name": "python"
  }
 },
 "nbformat": 4,
 "nbformat_minor": 5
}
