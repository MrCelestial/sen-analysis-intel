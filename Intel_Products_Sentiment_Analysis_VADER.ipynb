{
 "cells": [
  {
   "cell_type": "markdown",
   "id": "3fd83c3c",
   "metadata": {},
   "source": [
    "# Intel Products Sentiment Analysis"
   ]
  },
  {
   "cell_type": "markdown",
   "id": "fef631b9",
   "metadata": {},
   "source": [
    "## Introduction"
   ]
  },
  {
   "cell_type": "markdown",
   "id": "19bf93ad",
   "metadata": {},
   "source": [
    "\n",
    "This notebook provides a comprehensive sentiment analysis of Intel product reviews scraped from various online sources. The goal is to clean the data, analyze the sentiment of the reviews, and provide actionable insights and recommendations for improving Intel products based on customer feedback.\n"
   ]
  },
  {
   "cell_type": "markdown",
   "id": "2429a15b",
   "metadata": {},
   "source": [
    "## Data Cleaning"
   ]
  },
  {
   "cell_type": "code",
   "execution_count": 1,
   "id": "1e32e30e",
   "metadata": {},
   "outputs": [
    {
     "data": {
      "text/html": [
       "<div>\n",
       "<style scoped>\n",
       "    .dataframe tbody tr th:only-of-type {\n",
       "        vertical-align: middle;\n",
       "    }\n",
       "\n",
       "    .dataframe tbody tr th {\n",
       "        vertical-align: top;\n",
       "    }\n",
       "\n",
       "    .dataframe thead th {\n",
       "        text-align: right;\n",
       "    }\n",
       "</style>\n",
       "<table border=\"1\" class=\"dataframe\">\n",
       "  <thead>\n",
       "    <tr style=\"text-align: right;\">\n",
       "      <th></th>\n",
       "      <th>rating</th>\n",
       "      <th>content</th>\n",
       "      <th>variant</th>\n",
       "      <th>name</th>\n",
       "      <th>date</th>\n",
       "      <th>verified</th>\n",
       "      <th>sub_reviews</th>\n",
       "    </tr>\n",
       "  </thead>\n",
       "  <tbody>\n",
       "    <tr>\n",
       "      <th>0</th>\n",
       "      <td>NaN</td>\n",
       "      <td>No doubt, 12th gen Intel processors are a marv...</td>\n",
       "      <td>Style Name: Processor OnlyVerified Purchase</td>\n",
       "      <td>Anish Roy</td>\n",
       "      <td>Reviewed in India on 28 June 2022</td>\n",
       "      <td>True</td>\n",
       "      <td>[]</td>\n",
       "    </tr>\n",
       "    <tr>\n",
       "      <th>1</th>\n",
       "      <td>NaN</td>\n",
       "      <td>I have paired this processor with Asus Prime Z...</td>\n",
       "      <td>Style Name: Processor Only</td>\n",
       "      <td>Maxrock89</td>\n",
       "      <td>Reviewed in India on 29 March 2022</td>\n",
       "      <td>False</td>\n",
       "      <td>[]</td>\n",
       "    </tr>\n",
       "    <tr>\n",
       "      <th>2</th>\n",
       "      <td>NaN</td>\n",
       "      <td>自分のCPUが結構古いので、12年ぶりにアップグレードしました。\\n最初はRYZENに迷って...</td>\n",
       "      <td>Style Name: Processor OnlyVerified Purchase</td>\n",
       "      <td>Andy</td>\n",
       "      <td>Reviewed in Japan on 25 May 2023</td>\n",
       "      <td>True</td>\n",
       "      <td>[]</td>\n",
       "    </tr>\n",
       "    <tr>\n",
       "      <th>3</th>\n",
       "      <td>NaN</td>\n",
       "      <td>Processore eccellente, montato sul pc perfetta...</td>\n",
       "      <td>Style Name: Processor OnlyVerified Purchase</td>\n",
       "      <td>Nicolo</td>\n",
       "      <td>Reviewed in Italy on 13 February 2024</td>\n",
       "      <td>True</td>\n",
       "      <td>[]</td>\n",
       "    </tr>\n",
       "    <tr>\n",
       "      <th>4</th>\n",
       "      <td>NaN</td>\n",
       "      <td>Does exactly what it's supposed to do, my comp...</td>\n",
       "      <td>Style Name: Processor OnlyVerified Purchase</td>\n",
       "      <td>Allan</td>\n",
       "      <td>Reviewed in Canada on 23 May 2024</td>\n",
       "      <td>True</td>\n",
       "      <td>[]</td>\n",
       "    </tr>\n",
       "  </tbody>\n",
       "</table>\n",
       "</div>"
      ],
      "text/plain": [
       "   rating                                            content  \\\n",
       "0     NaN  No doubt, 12th gen Intel processors are a marv...   \n",
       "1     NaN  I have paired this processor with Asus Prime Z...   \n",
       "2     NaN  自分のCPUが結構古いので、12年ぶりにアップグレードしました。\\n最初はRYZENに迷って...   \n",
       "3     NaN  Processore eccellente, montato sul pc perfetta...   \n",
       "4     NaN  Does exactly what it's supposed to do, my comp...   \n",
       "\n",
       "                                       variant       name  \\\n",
       "0  Style Name: Processor OnlyVerified Purchase  Anish Roy   \n",
       "1                   Style Name: Processor Only  Maxrock89   \n",
       "2  Style Name: Processor OnlyVerified Purchase       Andy   \n",
       "3  Style Name: Processor OnlyVerified Purchase     Nicolo   \n",
       "4  Style Name: Processor OnlyVerified Purchase      Allan   \n",
       "\n",
       "                                    date  verified sub_reviews  \n",
       "0      Reviewed in India on 28 June 2022      True          []  \n",
       "1     Reviewed in India on 29 March 2022     False          []  \n",
       "2       Reviewed in Japan on 25 May 2023      True          []  \n",
       "3  Reviewed in Italy on 13 February 2024      True          []  \n",
       "4      Reviewed in Canada on 23 May 2024      True          []  "
      ]
     },
     "execution_count": 1,
     "metadata": {},
     "output_type": "execute_result"
    }
   ],
   "source": [
    "\n",
    "import pandas as pd\n",
    "import re\n",
    "\n",
    "file_path = 'reviews.csv'\n",
    "reviews_df = pd.read_csv(file_path)\n",
    "\n",
    "reviews_df.head()\n"
   ]
  },
  {
   "cell_type": "markdown",
   "id": "c084ad4d",
   "metadata": {},
   "source": [
    "\n",
    "### Handling Missing Values\n",
    "We'll remove rows with missing values in the 'content' column to ensure we have complete data for analysis.\n"
   ]
  },
  {
   "cell_type": "code",
   "execution_count": 6,
   "id": "20c2759c",
   "metadata": {},
   "outputs": [
    {
     "data": {
      "text/html": [
       "<div>\n",
       "<style scoped>\n",
       "    .dataframe tbody tr th:only-of-type {\n",
       "        vertical-align: middle;\n",
       "    }\n",
       "\n",
       "    .dataframe tbody tr th {\n",
       "        vertical-align: top;\n",
       "    }\n",
       "\n",
       "    .dataframe thead th {\n",
       "        text-align: right;\n",
       "    }\n",
       "</style>\n",
       "<table border=\"1\" class=\"dataframe\">\n",
       "  <thead>\n",
       "    <tr style=\"text-align: right;\">\n",
       "      <th></th>\n",
       "      <th>rating</th>\n",
       "      <th>content</th>\n",
       "      <th>variant</th>\n",
       "      <th>name</th>\n",
       "      <th>date</th>\n",
       "      <th>verified</th>\n",
       "      <th>sub_reviews</th>\n",
       "      <th>cleaned_content</th>\n",
       "      <th>sentiment</th>\n",
       "    </tr>\n",
       "  </thead>\n",
       "  <tbody>\n",
       "    <tr>\n",
       "      <th>0</th>\n",
       "      <td>NaN</td>\n",
       "      <td>No doubt, 12th gen Intel processors are a marv...</td>\n",
       "      <td>Style Name: Processor OnlyVerified Purchase</td>\n",
       "      <td>Anish Roy</td>\n",
       "      <td>Reviewed in India on 28 June 2022</td>\n",
       "      <td>True</td>\n",
       "      <td>[]</td>\n",
       "      <td>no doubt 12th gen intel processors are a marve...</td>\n",
       "      <td>positive</td>\n",
       "    </tr>\n",
       "    <tr>\n",
       "      <th>1</th>\n",
       "      <td>NaN</td>\n",
       "      <td>I have paired this processor with Asus Prime Z...</td>\n",
       "      <td>Style Name: Processor Only</td>\n",
       "      <td>Maxrock89</td>\n",
       "      <td>Reviewed in India on 29 March 2022</td>\n",
       "      <td>False</td>\n",
       "      <td>[]</td>\n",
       "      <td>i have paired this processor with asus prime z...</td>\n",
       "      <td>positive</td>\n",
       "    </tr>\n",
       "    <tr>\n",
       "      <th>2</th>\n",
       "      <td>NaN</td>\n",
       "      <td>自分のCPUが結構古いので、12年ぶりにアップグレードしました。\\n最初はRYZENに迷って...</td>\n",
       "      <td>Style Name: Processor OnlyVerified Purchase</td>\n",
       "      <td>Andy</td>\n",
       "      <td>Reviewed in Japan on 25 May 2023</td>\n",
       "      <td>True</td>\n",
       "      <td>[]</td>\n",
       "      <td>cpu12 ryzen   ryzencpu pc</td>\n",
       "      <td>neutral</td>\n",
       "    </tr>\n",
       "    <tr>\n",
       "      <th>3</th>\n",
       "      <td>NaN</td>\n",
       "      <td>Processore eccellente, montato sul pc perfetta...</td>\n",
       "      <td>Style Name: Processor OnlyVerified Purchase</td>\n",
       "      <td>Nicolo</td>\n",
       "      <td>Reviewed in Italy on 13 February 2024</td>\n",
       "      <td>True</td>\n",
       "      <td>[]</td>\n",
       "      <td>processore eccellente montato sul pc perfettam...</td>\n",
       "      <td>neutral</td>\n",
       "    </tr>\n",
       "    <tr>\n",
       "      <th>4</th>\n",
       "      <td>NaN</td>\n",
       "      <td>Does exactly what it's supposed to do, my comp...</td>\n",
       "      <td>Style Name: Processor OnlyVerified Purchase</td>\n",
       "      <td>Allan</td>\n",
       "      <td>Reviewed in Canada on 23 May 2024</td>\n",
       "      <td>True</td>\n",
       "      <td>[]</td>\n",
       "      <td>does exactly what its supposed to do my comput...</td>\n",
       "      <td>positive</td>\n",
       "    </tr>\n",
       "  </tbody>\n",
       "</table>\n",
       "</div>"
      ],
      "text/plain": [
       "   rating                                            content  \\\n",
       "0     NaN  No doubt, 12th gen Intel processors are a marv...   \n",
       "1     NaN  I have paired this processor with Asus Prime Z...   \n",
       "2     NaN  自分のCPUが結構古いので、12年ぶりにアップグレードしました。\\n最初はRYZENに迷って...   \n",
       "3     NaN  Processore eccellente, montato sul pc perfetta...   \n",
       "4     NaN  Does exactly what it's supposed to do, my comp...   \n",
       "\n",
       "                                       variant       name  \\\n",
       "0  Style Name: Processor OnlyVerified Purchase  Anish Roy   \n",
       "1                   Style Name: Processor Only  Maxrock89   \n",
       "2  Style Name: Processor OnlyVerified Purchase       Andy   \n",
       "3  Style Name: Processor OnlyVerified Purchase     Nicolo   \n",
       "4  Style Name: Processor OnlyVerified Purchase      Allan   \n",
       "\n",
       "                                    date  verified sub_reviews  \\\n",
       "0      Reviewed in India on 28 June 2022      True          []   \n",
       "1     Reviewed in India on 29 March 2022     False          []   \n",
       "2       Reviewed in Japan on 25 May 2023      True          []   \n",
       "3  Reviewed in Italy on 13 February 2024      True          []   \n",
       "4      Reviewed in Canada on 23 May 2024      True          []   \n",
       "\n",
       "                                     cleaned_content sentiment  \n",
       "0  no doubt 12th gen intel processors are a marve...  positive  \n",
       "1  i have paired this processor with asus prime z...  positive  \n",
       "2                          cpu12 ryzen   ryzencpu pc   neutral  \n",
       "3  processore eccellente montato sul pc perfettam...   neutral  \n",
       "4  does exactly what its supposed to do my comput...  positive  "
      ]
     },
     "execution_count": 6,
     "metadata": {},
     "output_type": "execute_result"
    }
   ],
   "source": [
    "\n",
    "reviews_df = reviews_df.dropna(subset=['content'])\n",
    "reviews_df.head()\n"
   ]
  },
  {
   "cell_type": "markdown",
   "id": "2e8f27a0",
   "metadata": {},
   "source": [
    "\n",
    "### Text Cleaning\n",
    "We'll clean the text by converting it to lowercase, removing newlines, and removing punctuation.\n"
   ]
  },
  {
   "cell_type": "code",
   "execution_count": 3,
   "id": "180be8bd",
   "metadata": {},
   "outputs": [
    {
     "data": {
      "text/html": [
       "<div>\n",
       "<style scoped>\n",
       "    .dataframe tbody tr th:only-of-type {\n",
       "        vertical-align: middle;\n",
       "    }\n",
       "\n",
       "    .dataframe tbody tr th {\n",
       "        vertical-align: top;\n",
       "    }\n",
       "\n",
       "    .dataframe thead th {\n",
       "        text-align: right;\n",
       "    }\n",
       "</style>\n",
       "<table border=\"1\" class=\"dataframe\">\n",
       "  <thead>\n",
       "    <tr style=\"text-align: right;\">\n",
       "      <th></th>\n",
       "      <th>content</th>\n",
       "      <th>cleaned_content</th>\n",
       "    </tr>\n",
       "  </thead>\n",
       "  <tbody>\n",
       "    <tr>\n",
       "      <th>0</th>\n",
       "      <td>No doubt, 12th gen Intel processors are a marv...</td>\n",
       "      <td>no doubt 12th gen intel processors are a marve...</td>\n",
       "    </tr>\n",
       "    <tr>\n",
       "      <th>1</th>\n",
       "      <td>I have paired this processor with Asus Prime Z...</td>\n",
       "      <td>i have paired this processor with asus prime z...</td>\n",
       "    </tr>\n",
       "    <tr>\n",
       "      <th>2</th>\n",
       "      <td>自分のCPUが結構古いので、12年ぶりにアップグレードしました。\\n最初はRYZENに迷って...</td>\n",
       "      <td>cpu12 ryzen   ryzencpu pc</td>\n",
       "    </tr>\n",
       "    <tr>\n",
       "      <th>3</th>\n",
       "      <td>Processore eccellente, montato sul pc perfetta...</td>\n",
       "      <td>processore eccellente montato sul pc perfettam...</td>\n",
       "    </tr>\n",
       "    <tr>\n",
       "      <th>4</th>\n",
       "      <td>Does exactly what it's supposed to do, my comp...</td>\n",
       "      <td>does exactly what its supposed to do my comput...</td>\n",
       "    </tr>\n",
       "  </tbody>\n",
       "</table>\n",
       "</div>"
      ],
      "text/plain": [
       "                                             content  \\\n",
       "0  No doubt, 12th gen Intel processors are a marv...   \n",
       "1  I have paired this processor with Asus Prime Z...   \n",
       "2  自分のCPUが結構古いので、12年ぶりにアップグレードしました。\\n最初はRYZENに迷って...   \n",
       "3  Processore eccellente, montato sul pc perfetta...   \n",
       "4  Does exactly what it's supposed to do, my comp...   \n",
       "\n",
       "                                     cleaned_content  \n",
       "0  no doubt 12th gen intel processors are a marve...  \n",
       "1  i have paired this processor with asus prime z...  \n",
       "2                          cpu12 ryzen   ryzencpu pc  \n",
       "3  processore eccellente montato sul pc perfettam...  \n",
       "4  does exactly what its supposed to do my comput...  "
      ]
     },
     "execution_count": 3,
     "metadata": {},
     "output_type": "execute_result"
    }
   ],
   "source": [
    "\n",
    "def clean_text(text):\n",
    "    text = text.lower()  \n",
    "    text = re.sub(r'\\n', ' ', text)  \n",
    "    text = re.sub(r'[^a-z0-9\\s]', '', text)  \n",
    "    return text\n",
    "\n",
    "reviews_df['cleaned_content'] = reviews_df['content'].apply(clean_text)\n",
    "\n",
    "reviews_df[['content', 'cleaned_content']].head()\n"
   ]
  },
  {
   "cell_type": "markdown",
   "id": "c9cefc1a",
   "metadata": {},
   "source": [
    "## Sentiment Analysis"
   ]
  },
  {
   "cell_type": "code",
   "execution_count": 4,
   "id": "43f77bb7",
   "metadata": {},
   "outputs": [
    {
     "data": {
      "text/html": [
       "<div>\n",
       "<style scoped>\n",
       "    .dataframe tbody tr th:only-of-type {\n",
       "        vertical-align: middle;\n",
       "    }\n",
       "\n",
       "    .dataframe tbody tr th {\n",
       "        vertical-align: top;\n",
       "    }\n",
       "\n",
       "    .dataframe thead th {\n",
       "        text-align: right;\n",
       "    }\n",
       "</style>\n",
       "<table border=\"1\" class=\"dataframe\">\n",
       "  <thead>\n",
       "    <tr style=\"text-align: right;\">\n",
       "      <th></th>\n",
       "      <th>cleaned_content</th>\n",
       "      <th>sentiment</th>\n",
       "    </tr>\n",
       "  </thead>\n",
       "  <tbody>\n",
       "    <tr>\n",
       "      <th>0</th>\n",
       "      <td>no doubt 12th gen intel processors are a marve...</td>\n",
       "      <td>positive</td>\n",
       "    </tr>\n",
       "    <tr>\n",
       "      <th>1</th>\n",
       "      <td>i have paired this processor with asus prime z...</td>\n",
       "      <td>positive</td>\n",
       "    </tr>\n",
       "    <tr>\n",
       "      <th>2</th>\n",
       "      <td>cpu12 ryzen   ryzencpu pc</td>\n",
       "      <td>neutral</td>\n",
       "    </tr>\n",
       "    <tr>\n",
       "      <th>3</th>\n",
       "      <td>processore eccellente montato sul pc perfettam...</td>\n",
       "      <td>neutral</td>\n",
       "    </tr>\n",
       "    <tr>\n",
       "      <th>4</th>\n",
       "      <td>does exactly what its supposed to do my comput...</td>\n",
       "      <td>positive</td>\n",
       "    </tr>\n",
       "  </tbody>\n",
       "</table>\n",
       "</div>"
      ],
      "text/plain": [
       "                                     cleaned_content sentiment\n",
       "0  no doubt 12th gen intel processors are a marve...  positive\n",
       "1  i have paired this processor with asus prime z...  positive\n",
       "2                          cpu12 ryzen   ryzencpu pc   neutral\n",
       "3  processore eccellente montato sul pc perfettam...   neutral\n",
       "4  does exactly what its supposed to do my comput...  positive"
      ]
     },
     "execution_count": 4,
     "metadata": {},
     "output_type": "execute_result"
    }
   ],
   "source": [
    "\n",
    "from textblob import TextBlob\n",
    "\n",
    "def analyze_sentiment_textblob(text):\n",
    "    blob = TextBlob(text)\n",
    "    if blob.sentiment.polarity > 0:\n",
    "        return 'positive'\n",
    "    elif blob.sentiment.polarity < 0:\n",
    "        return 'negative'\n",
    "    else:\n",
    "        return 'neutral'\n",
    "\n",
    "reviews_df['sentiment'] = reviews_df['cleaned_content'].apply(analyze_sentiment_textblob)\n",
    "\n",
    "reviews_df[['cleaned_content', 'sentiment']].head()\n"
   ]
  },
  {
   "cell_type": "markdown",
   "id": "bdc1fb6d",
   "metadata": {},
   "source": [
    "## Sentiment Distribution"
   ]
  },
  {
   "cell_type": "code",
   "execution_count": 5,
   "id": "817d55c2",
   "metadata": {},
   "outputs": [
    {
     "data": {
      "image/png": "[encoded data removed]",
      "text/plain": [
       "<Figure size 800x600 with 1 Axes>"
      ]
     },
     "metadata": {},
     "output_type": "display_data"
    },
    {
     "data": {
      "text/plain": [
       "sentiment\n",
       "positive    1251\n",
       "neutral      690\n",
       "negative     138\n",
       "Name: count, dtype: int64"
      ]
     },
     "execution_count": 5,
     "metadata": {},
     "output_type": "execute_result"
    }
   ],
   "source": [
    "\n",
    "import matplotlib.pyplot as plt\n",
    "\n",
    "sentiment_counts = reviews_df['sentiment'].value_counts()\n",
    "\n",
    "plt.figure(figsize=(8, 6))\n",
    "sentiment_counts.plot(kind='bar', color=['green', 'red', 'gray'])\n",
    "plt.title('Sentiment Distribution of Intel Product Reviews')\n",
    "plt.xlabel('Sentiment')\n",
    "plt.ylabel('Number of Reviews')\n",
    "plt.xticks(rotation=0)\n",
    "plt.show()\n",
    "\n",
    "sentiment_counts\n"
   ]
  },
  {
   "cell_type": "markdown",
   "id": "8b93b6f7",
   "metadata": {},
   "source": [
    "## Insights and Recommendations"
   ]
  },
  {
   "cell_type": "markdown",
   "id": "c5c10199",
   "metadata": {},
   "source": [
    "\n",
    "### Sentiment Distribution\n",
    "\n",
    "- **Positive Reviews**: The majority of the reviews are positive, indicating a generally favorable perception of Intel products among customers.\n",
    "- **Neutral Reviews**: A significant number of reviews are neutral, suggesting areas where improvements or more detailed feedback might be provided.\n",
    "- **Negative Reviews**: Although relatively few, negative reviews highlight areas where customers are dissatisfied.\n",
    "\n",
    "### Recommendations\n",
    "\n",
    "1. **Strengthen Positives**: Leverage the aspects customers are happy with, such as performance and compatibility, to market the products more effectively.\n",
    "2. **Address Neutral Feedback**: Investigate the neutral reviews to understand what might be missing or unclear. Provide more detailed product information and support to convert neutral feedback into positive.\n",
    "3. **Improve Negatives**: Focus on the areas highlighted in negative reviews. Common issues might include product quality, customer service, or specific features that need improvement.\n"
   ]
  },
  {
   "cell_type": "markdown",
   "id": "c42dcf61",
   "metadata": {},
   "source": [
    "## Conclusion"
   ]
  },
  {
   "cell_type": "markdown",
   "id": "218c319e",
   "metadata": {},
   "source": [
    "\n",
    "This sentiment analysis of Intel product reviews provides valuable insights into customer perceptions and areas for improvement. By addressing the feedback, Intel can enhance customer satisfaction and product quality.\n"
   ]
  }
 ],
 "metadata": {
  "kernelspec": {
   "display_name": "Python 3",
   "language": "python",
   "name": "python3"
  },
  "language_info": {
   "codemirror_mode": {
    "name": "ipython",
    "version": 3
   },
   "file_extension": ".py",
   "mimetype": "text/x-python",
   "name": "python",
   "nbconvert_exporter": "python",
   "pygments_lexer": "ipython3",
   "version": "3.11.9"
  }
 },
 "nbformat": 4,
 "nbformat_minor": 5
}
