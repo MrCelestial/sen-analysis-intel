{
 "cells": [
  {
   "cell_type": "markdown",
   "id": "3c13788a",
   "metadata": {},
   "source": [
    "# Intel Products Sentiment Analysis"
   ]
  },
  {
   "cell_type": "markdown",
   "id": "5dbc8c2d",
   "metadata": {},
   "source": [
    "## Introduction"
   ]
  },
  {
   "cell_type": "markdown",
   "id": "7affa7cd",
   "metadata": {},
   "source": [
    "\n",
    "This notebook provides a comprehensive sentiment analysis of Intel product reviews scraped from various online sources. The goal is to clean the data, analyze the sentiment of the reviews, and provide actionable insights and recommendations for improving Intel products based on customer feedback.\n"
   ]
  },
  {
   "cell_type": "markdown",
   "id": "6909a05f",
   "metadata": {},
   "source": [
    "## Step 1: Data Cleaning"
   ]
  },
  {
   "cell_type": "code",
   "execution_count": 9,
   "id": "e2c67d5d",
   "metadata": {},
   "outputs": [
    {
     "name": "stderr",
     "output_type": "stream",
     "text": [
      "[nltk_data] Downloading package stopwords to C:\\Users\\Debjit\n",
      "[nltk_data]     Mandal\\AppData\\Roaming\\nltk_data...\n",
      "[nltk_data]   Package stopwords is already up-to-date!\n",
      "[nltk_data] Downloading package punkt to C:\\Users\\Debjit\n",
      "[nltk_data]     Mandal\\AppData\\Roaming\\nltk_data...\n",
      "[nltk_data]   Package punkt is already up-to-date!\n",
      "[nltk_data] Downloading package wordnet to C:\\Users\\Debjit\n",
      "[nltk_data]     Mandal\\AppData\\Roaming\\nltk_data...\n",
      "[nltk_data]   Package wordnet is already up-to-date!\n"
     ]
    },
    {
     "data": {
      "text/html": [
       "<div>\n",
       "<style scoped>\n",
       "    .dataframe tbody tr th:only-of-type {\n",
       "        vertical-align: middle;\n",
       "    }\n",
       "\n",
       "    .dataframe tbody tr th {\n",
       "        vertical-align: top;\n",
       "    }\n",
       "\n",
       "    .dataframe thead th {\n",
       "        text-align: right;\n",
       "    }\n",
       "</style>\n",
       "<table border=\"1\" class=\"dataframe\">\n",
       "  <thead>\n",
       "    <tr style=\"text-align: right;\">\n",
       "      <th></th>\n",
       "      <th>content</th>\n",
       "      <th>cleaned_content</th>\n",
       "    </tr>\n",
       "  </thead>\n",
       "  <tbody>\n",
       "    <tr>\n",
       "      <th>0</th>\n",
       "      <td>No doubt, 12th gen Intel processors are a marv...</td>\n",
       "      <td>doubt 12th gen intel processor marvel computin...</td>\n",
       "    </tr>\n",
       "    <tr>\n",
       "      <th>1</th>\n",
       "      <td>I have paired this processor with Asus Prime Z...</td>\n",
       "      <td>paired processor asus prime z690a motherboard ...</td>\n",
       "    </tr>\n",
       "    <tr>\n",
       "      <th>2</th>\n",
       "      <td>自分のCPUが結構古いので、12年ぶりにアップグレードしました。\\n最初はRYZENに迷って...</td>\n",
       "      <td>自分のcpuが結構古いので12年ぶりにアップグレードしました 最初はryzenに迷っていたが...</td>\n",
       "    </tr>\n",
       "    <tr>\n",
       "      <th>3</th>\n",
       "      <td>Processore eccellente, montato sul pc perfetta...</td>\n",
       "      <td>processore eccellente montato sul pc perfettam...</td>\n",
       "    </tr>\n",
       "    <tr>\n",
       "      <th>4</th>\n",
       "      <td>Does exactly what it's supposed to do, my comp...</td>\n",
       "      <td>exactly supposed computer work great</td>\n",
       "    </tr>\n",
       "  </tbody>\n",
       "</table>\n",
       "</div>"
      ],
      "text/plain": [
       "                                             content  \\\n",
       "0  No doubt, 12th gen Intel processors are a marv...   \n",
       "1  I have paired this processor with Asus Prime Z...   \n",
       "2  自分のCPUが結構古いので、12年ぶりにアップグレードしました。\\n最初はRYZENに迷って...   \n",
       "3  Processore eccellente, montato sul pc perfetta...   \n",
       "4  Does exactly what it's supposed to do, my comp...   \n",
       "\n",
       "                                     cleaned_content  \n",
       "0  doubt 12th gen intel processor marvel computin...  \n",
       "1  paired processor asus prime z690a motherboard ...  \n",
       "2  自分のcpuが結構古いので12年ぶりにアップグレードしました 最初はryzenに迷っていたが...  \n",
       "3  processore eccellente montato sul pc perfettam...  \n",
       "4               exactly supposed computer work great  "
      ]
     },
     "execution_count": 9,
     "metadata": {},
     "output_type": "execute_result"
    }
   ],
   "source": [
    "\n",
    "import pandas as pd\n",
    "import re\n",
    "import nltk\n",
    "from nltk.corpus import stopwords\n",
    "from nltk.tokenize import word_tokenize\n",
    "from nltk.stem import WordNetLemmatizer\n",
    "\n",
    "nltk.download('stopwords')\n",
    "nltk.download('punkt')\n",
    "nltk.download('wordnet')\n",
    "\n",
    "file_path = 'reviews.csv'\n",
    "reviews_df = pd.read_csv(file_path)\n",
    "\n",
    "def clean_text(text):\n",
    "    text = re.sub(r'<.*?>', '', text)\n",
    "    text = re.sub(r\"n't\", \" not\", text)\n",
    "    text = re.sub(r\"'re\", \" are\", text)\n",
    "    text = re.sub(r\"'s\", \" is\", text)\n",
    "    text = re.sub(r\"'d\", \" would\", text)\n",
    "    text = re.sub(r\"'ll\", \" will\", text)\n",
    "    text = re.sub(r\"'t\", \" not\", text)\n",
    "    text = re.sub(r\"'ve\", \" have\", text)\n",
    "    text = re.sub(r\"'m\", \" am\", text)\n",
    "    text = text.lower()\n",
    "    text = re.sub(r'[^\\w\\s]', '', text)\n",
    "    words = word_tokenize(text)\n",
    "    words = [word for word in words if word not in stopwords.words('english')]\n",
    "    lemmatizer = WordNetLemmatizer()\n",
    "    words = [lemmatizer.lemmatize(word) for word in words]\n",
    "    return ' '.join(words)\n",
    "\n",
    "reviews_df['content'] = reviews_df['content'].astype(str)\n",
    "\n",
    "reviews_df['cleaned_content'] = reviews_df['content'].apply(clean_text)\n",
    "\n",
    "reviews_df[['content', 'cleaned_content']].head()\n"
   ]
  },
  {
   "cell_type": "markdown",
   "id": "8488a253",
   "metadata": {},
   "source": [
    "## Step 2: Sentiment Analysis"
   ]
  },
  {
   "cell_type": "code",
   "execution_count": 6,
   "id": "a8c3995b",
   "metadata": {},
   "outputs": [
    {
     "data": {
      "application/vnd.jupyter.widget-view+json": {
       "model_id": "7064c65b3fb14b69a9719897dc35cd78",
       "version_major": 2,
       "version_minor": 0
      },
      "text/plain": [
       "tf_model.h5:   0%|          | 0.00/670M [00:00<?, ?B/s]"
      ]
     },
     "metadata": {},
     "output_type": "display_data"
    },
    {
     "name": "stderr",
     "output_type": "stream",
     "text": [
      "C:\\Users\\Debjit Mandal\\AppData\\Local\\Packages\\PythonSoftwareFoundation.Python.3.11_qbz5n2kfra8p0\\LocalCache\\local-packages\\Python311\\site-packages\\huggingface_hub\\file_download.py:157: UserWarning: `huggingface_hub` cache-system uses symlinks by default to efficiently store duplicated files but your machine does not support them in C:\\Users\\Debjit Mandal\\.cache\\huggingface\\hub\\models--nlptown--bert-base-multilingual-uncased-sentiment. Caching files will still work but in a degraded version that might require more space on your disk. This warning can be disabled by setting the `HF_HUB_DISABLE_SYMLINKS_WARNING` environment variable. For more details, see https://huggingface.co/docs/huggingface_hub/how-to-cache#limitations.\n",
      "To support symlinks on Windows, you either need to activate Developer Mode or to run Python as an administrator. In order to see activate developer mode, see this article: https://docs.microsoft.com/en-us/windows/apps/get-started/enable-your-device-for-development\n",
      "  warnings.warn(message)\n",
      "All model checkpoint layers were used when initializing TFBertForSequenceClassification.\n",
      "\n",
      "All the layers of TFBertForSequenceClassification were initialized from the model checkpoint at nlptown/bert-base-multilingual-uncased-sentiment.\n",
      "If your task is similar to the task the model of the checkpoint was trained on, you can already use TFBertForSequenceClassification for predictions without further training.\n"
     ]
    },
    {
     "data": {
      "text/html": [
       "<div>\n",
       "<style scoped>\n",
       "    .dataframe tbody tr th:only-of-type {\n",
       "        vertical-align: middle;\n",
       "    }\n",
       "\n",
       "    .dataframe tbody tr th {\n",
       "        vertical-align: top;\n",
       "    }\n",
       "\n",
       "    .dataframe thead th {\n",
       "        text-align: right;\n",
       "    }\n",
       "</style>\n",
       "<table border=\"1\" class=\"dataframe\">\n",
       "  <thead>\n",
       "    <tr style=\"text-align: right;\">\n",
       "      <th></th>\n",
       "      <th>cleaned_content</th>\n",
       "      <th>sentiment</th>\n",
       "    </tr>\n",
       "  </thead>\n",
       "  <tbody>\n",
       "    <tr>\n",
       "      <th>0</th>\n",
       "      <td>doubt 12th gen intel processor marvel computin...</td>\n",
       "      <td>neutral</td>\n",
       "    </tr>\n",
       "    <tr>\n",
       "      <th>1</th>\n",
       "      <td>paired processor asus prime z690a motherboard ...</td>\n",
       "      <td>positive</td>\n",
       "    </tr>\n",
       "    <tr>\n",
       "      <th>2</th>\n",
       "      <td>自分のcpuが結構古いので12年ぶりにアップグレードしました 最初はryzenに迷っていたが...</td>\n",
       "      <td>negative</td>\n",
       "    </tr>\n",
       "    <tr>\n",
       "      <th>3</th>\n",
       "      <td>processore eccellente montato sul pc perfettam...</td>\n",
       "      <td>positive</td>\n",
       "    </tr>\n",
       "    <tr>\n",
       "      <th>4</th>\n",
       "      <td>exactly supposed computer work great</td>\n",
       "      <td>positive</td>\n",
       "    </tr>\n",
       "  </tbody>\n",
       "</table>\n",
       "</div>"
      ],
      "text/plain": [
       "                                     cleaned_content sentiment\n",
       "0  doubt 12th gen intel processor marvel computin...   neutral\n",
       "1  paired processor asus prime z690a motherboard ...  positive\n",
       "2  自分のcpuが結構古いので12年ぶりにアップグレードしました 最初はryzenに迷っていたが...  negative\n",
       "3  processore eccellente montato sul pc perfettam...  positive\n",
       "4               exactly supposed computer work great  positive"
      ]
     },
     "execution_count": 6,
     "metadata": {},
     "output_type": "execute_result"
    }
   ],
   "source": [
    "from transformers import pipeline, AutoTokenizer, TFAutoModelForSequenceClassification\n",
    "\n",
    "model_name = \"nlptown/bert-base-multilingual-uncased-sentiment\"\n",
    "tokenizer = AutoTokenizer.from_pretrained(model_name)\n",
    "model = TFAutoModelForSequenceClassification.from_pretrained(model_name)\n",
    "sentiment_model = pipeline('sentiment-analysis', model=model, tokenizer=tokenizer)\n",
    "\n",
    "def analyze_sentiment(text):\n",
    "    result = sentiment_model(text, truncation=True, max_length=512)\n",
    "    label = result[0]['label']\n",
    "    if label in ['1 star', '2 stars']:\n",
    "        return 'negative'\n",
    "    elif label == '3 stars':\n",
    "        return 'neutral'\n",
    "    else:\n",
    "        return 'positive'\n",
    "\n",
    "reviews_df['sentiment'] = reviews_df['cleaned_content'].apply(analyze_sentiment)\n",
    "\n",
    "reviews_df[['cleaned_content', 'sentiment']].head()"
   ]
  },
  {
   "cell_type": "markdown",
   "id": "b662d766",
   "metadata": {},
   "source": [
    "## Step 3: Sentiment Distribution"
   ]
  },
  {
   "cell_type": "code",
   "execution_count": 7,
   "id": "9418103a",
   "metadata": {},
   "outputs": [
    {
     "data": {
      "image/png": "[encoded data removed]",
      "text/plain": [
       "<Figure size 1000x600 with 1 Axes>"
      ]
     },
     "metadata": {},
     "output_type": "display_data"
    },
    {
     "data": {
      "text/plain": [
       "sentiment\n",
       "positive    1421\n",
       "negative     449\n",
       "neutral      223\n",
       "Name: count, dtype: int64"
      ]
     },
     "execution_count": 7,
     "metadata": {},
     "output_type": "execute_result"
    }
   ],
   "source": [
    "\n",
    "import matplotlib.pyplot as plt\n",
    "import seaborn as sns\n",
    "\n",
    "sentiment_counts = reviews_df['sentiment'].value_counts()\n",
    "\n",
    "plt.figure(figsize=(10, 6))\n",
    "sns.barplot(x=sentiment_counts.index, y=sentiment_counts.values, palette='viridis')\n",
    "plt.title('Sentiment Distribution of Intel Product Reviews')\n",
    "plt.xlabel('Sentiment')\n",
    "plt.ylabel('Number of Reviews')\n",
    "plt.show()\n",
    "\n",
    "sentiment_counts\n"
   ]
  },
  {
   "cell_type": "markdown",
   "id": "f362df4b",
   "metadata": {},
   "source": [
    "## Step 4: Insights and Recommendations"
   ]
  },
  {
   "cell_type": "markdown",
   "id": "2aee512d",
   "metadata": {},
   "source": [
    "\n",
    "### Sentiment Distribution\n",
    "\n",
    "- **Positive Reviews**: The majority of the reviews are positive, indicating a generally favorable perception of Intel products among customers.\n",
    "- **Neutral Reviews**: A significant number of reviews are neutral, suggesting areas where improvements or more detailed feedback might be provided.\n",
    "- **Negative Reviews**: Although relatively few, negative reviews highlight areas where customers are dissatisfied.\n",
    "\n",
    "### Recommendations\n",
    "\n",
    "1. **Strengthen Positives**: Leverage the aspects customers are happy with, such as performance and compatibility, to market the products more effectively.\n",
    "2. **Address Neutral Feedback**: Investigate the neutral reviews to understand what might be missing or unclear. Provide more detailed product information and support to convert neutral feedback into positive.\n",
    "3. **Improve Negatives**: Focus on the areas highlighted in negative reviews. Common issues might include product quality, customer service, or specific features that need improvement.\n"
   ]
  },
  {
   "cell_type": "markdown",
   "id": "640664ed",
   "metadata": {},
   "source": [
    "## Conclusion"
   ]
  },
  {
   "cell_type": "markdown",
   "id": "8f83762c",
   "metadata": {},
   "source": [
    "\n",
    "This sentiment analysis of Intel product reviews provides valuable insights into customer perceptions and areas for improvement. By addressing the feedback, Intel can enhance customer satisfaction and product quality.\n"
   ]
  }
 ],
 "metadata": {
  "kernelspec": {
   "display_name": "Python 3",
   "language": "python",
   "name": "python3"
  },
  "language_info": {
   "codemirror_mode": {
    "name": "ipython",
    "version": 3
   },
   "file_extension": ".py",
   "mimetype": "text/x-python",
   "name": "python",
   "nbconvert_exporter": "python",
   "pygments_lexer": "ipython3",
   "version": "3.11.9"
  }
 },
 "nbformat": 4,
 "nbformat_minor": 5
}
