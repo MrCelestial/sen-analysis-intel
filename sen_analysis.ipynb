{
 "cells": [
  {
   "cell_type": "code",
   "execution_count": 1,
   "id": "0b790073",
   "metadata": {},
   "outputs": [],
   "source": [
    "import pandas as pd\n",
    "import numpy as np\n",
    "import matplotlib.pyplot as plt\n",
    "import seaborn as sns\n",
    "plt.style.use(\"ggplot\")"
   ]
  },
  {
   "cell_type": "code",
   "execution_count": 2,
   "id": "94954e80",
   "metadata": {},
   "outputs": [
    {
     "name": "stderr",
     "output_type": "stream",
     "text": [
      "/home/ec2-user/anaconda3/envs/pytorch_p310/lib/python3.10/site-packages/torch/cuda/__init__.py:616: UserWarning: Can't initialize NVML\n",
      "  warnings.warn(\"Can't initialize NVML\")\n"
     ]
    }
   ],
   "source": [
    "import nltk\n",
    "import torch.nn.functional as F\n",
    "import spacy\n",
    "from tqdm.notebook import tqdm\n",
    "from nltk.sentiment import SentimentIntensityAnalyzer\n",
    "from transformers import AutoTokenizer, AutoModelForSequenceClassification, pipeline\n",
    "from collections import Counter\n",
    "from nltk.tokenize import word_tokenize"
   ]
  },
  {
   "cell_type": "code",
   "execution_count": 3,
   "id": "603d9d68",
   "metadata": {},
   "outputs": [],
   "source": [
    "df = pd.read_csv(\"./reviews.csv\")\n",
    "sia = SentimentIntensityAnalyzer()"
   ]
  },
  {
   "cell_type": "code",
   "execution_count": 4,
   "id": "700944f8",
   "metadata": {},
   "outputs": [
    {
     "data": {
      "text/plain": [
       "'smooth Good And better Quality'"
      ]
     },
     "execution_count": 4,
     "metadata": {},
     "output_type": "execute_result"
    }
   ],
   "source": [
    "df['content'].values[0]"
   ]
  },
  {
   "cell_type": "code",
   "execution_count": 5,
   "id": "494a6c96",
   "metadata": {},
   "outputs": [
    {
     "name": "stdout",
     "output_type": "stream",
     "text": [
      "smooth Good And better Quality\n"
     ]
    },
    {
     "data": {
      "text/plain": [
       "{'neg': 0.0, 'neu': 0.341, 'pos': 0.659, 'compound': 0.7003}"
      ]
     },
     "execution_count": 5,
     "metadata": {},
     "output_type": "execute_result"
    }
   ],
   "source": [
    "test = df['content'][0]\n",
    "print (test)\n",
    "tokens = nltk.word_tokenize(test)\n",
    "nltk.pos_tag(tokens)\n",
    "sia.polarity_scores(test)"
   ]
  },
  {
   "cell_type": "code",
   "execution_count": 6,
   "id": "c65b10ea",
   "metadata": {},
   "outputs": [
    {
     "name": "stderr",
     "output_type": "stream",
     "text": [
      "/home/ec2-user/anaconda3/envs/pytorch_p310/lib/python3.10/site-packages/torch/_utils.py:831: UserWarning: TypedStorage is deprecated. It will be removed in the future and UntypedStorage will be the only storage class. This should only matter to you if you are using storages directly.  To access UntypedStorage directly, use tensor.untyped_storage() instead of tensor.storage()\n",
      "  return self.fget.__get__(instance, owner)()\n"
     ]
    }
   ],
   "source": [
    "pipe = pipeline(\"text-classification\", model=\"finiteautomata/bertweet-base-sentiment-analysis\")"
   ]
  },
  {
   "cell_type": "code",
   "execution_count": 7,
   "id": "56958a48",
   "metadata": {},
   "outputs": [
    {
     "data": {
      "text/plain": [
       "[{'label': 'POS', 'score': 0.9776937961578369}]"
      ]
     },
     "execution_count": 7,
     "metadata": {},
     "output_type": "execute_result"
    }
   ],
   "source": [
    "pipe(test)"
   ]
  },
  {
   "cell_type": "code",
   "execution_count": 8,
   "id": "5356a2c0",
   "metadata": {},
   "outputs": [],
   "source": [
    "# Function to analyze sentiment using NLTK's SentimentIntensityAnalyzer\n",
    "def analyze_sentiment_nltk(text):\n",
    "    scores = sia.polarity_scores(text)\n",
    "    return scores"
   ]
  },
  {
   "cell_type": "code",
   "execution_count": 9,
   "id": "1953af92",
   "metadata": {},
   "outputs": [],
   "source": [
    "# Function to analyze sentiment using Hugging Face pipeline\n",
    "def analyze_sentiment_transformer(text):\n",
    "    test = text[:200]\n",
    "    result = pipe(test)[0]\n",
    "    return result"
   ]
  },
  {
   "cell_type": "code",
   "execution_count": 10,
   "id": "b15fdd11",
   "metadata": {},
   "outputs": [],
   "source": [
    "# Apply sentiment analysis to all reviews\n",
    "nltk_sentiments = df['content'].apply(analyze_sentiment_nltk)\n",
    "transformer_sentiments = df['content'].apply(analyze_sentiment_transformer)"
   ]
  },
  {
   "cell_type": "code",
   "execution_count": 11,
   "id": "b2d327dc",
   "metadata": {},
   "outputs": [],
   "source": [
    "# Convert the results to separate DataFrames\n",
    "nltk_df = pd.DataFrame(nltk_sentiments.tolist())\n",
    "transformer_df = pd.DataFrame(transformer_sentiments.tolist())"
   ]
  },
  {
   "cell_type": "code",
   "execution_count": 12,
   "id": "20a5fa5e",
   "metadata": {},
   "outputs": [],
   "source": [
    "# Combine the results with the original DataFrame\n",
    "df = pd.concat([df, nltk_df, transformer_df], axis=1)\n",
    "# Save the DataFrame to a new CSV file\n",
    "df.to_csv('updated_reviews.csv', index=False)"
   ]
  },
  {
   "cell_type": "code",
   "execution_count": 13,
   "id": "df344401",
   "metadata": {},
   "outputs": [
    {
     "name": "stdout",
     "output_type": "stream",
     "text": [
      "   rating                                            content  \\\n",
      "0     NaN                     smooth Good And better Quality   \n",
      "1     NaN  Only thing bad is camera quality. Worst image ...   \n",
      "2     NaN  It’s a great product for the price . Very flui...   \n",
      "3     NaN                                      Super quality   \n",
      "4     NaN  Redmi 12 5G (6GB/128GB)\\n\\nOverview: Having us...   \n",
      "\n",
      "                                             variant               name  \\\n",
      "0  Colour: Jade BlackSize: 6GB RAM + 128GB Storag...  Salik Ahamad Khan   \n",
      "1  Colour: Jade BlackSize: 6GB RAM + 128GB Storag...          Darshan P   \n",
      "2  Colour: Jade BlackSize: 6GB RAM + 128GB Storag...       Yajveer Arya   \n",
      "3  Colour: Jade BlackSize: 6GB RAM + 128GB Storag...           Srinivas   \n",
      "4  Colour: Jade BlackSize: 6GB RAM + 128GB Storag...        Placeholder   \n",
      "\n",
      "                               date  verified sub_reviews    neg    neu  \\\n",
      "0   Reviewed in India on 8 May 2024      True          []  0.000  0.341   \n",
      "1  Reviewed in India on 14 May 2024      True          []  0.195  0.651   \n",
      "2  Reviewed in India on 19 May 2024      True          []  0.000  0.576   \n",
      "3  Reviewed in India on 20 May 2024      True          []  0.000  0.204   \n",
      "4  Reviewed in India on 12 May 2024      True          []  0.142  0.793   \n",
      "\n",
      "     pos  compound label     score  \n",
      "0  0.659    0.7003   POS  0.977694  \n",
      "1  0.154   -0.5277   NEG  0.973514  \n",
      "2  0.424    0.9325   POS  0.992825  \n",
      "3  0.796    0.5994   POS  0.953173  \n",
      "4  0.064   -0.9875   POS  0.571982  \n"
     ]
    }
   ],
   "source": [
    "# Display the DataFrame with sentiment scores\n",
    "print(df.head())\n"
   ]
  },
  {
   "cell_type": "code",
   "execution_count": 14,
   "id": "e7573d08",
   "metadata": {
    "scrolled": true
   },
   "outputs": [
    {
     "data": {
      "image/png": "[encoded data removed]",
      "text/plain": [
       "<Figure size 800x600 with 1 Axes>"
      ]
     },
     "metadata": {},
     "output_type": "display_data"
    }
   ],
   "source": [
    "# Count the number of positive, negative, and neutral reviews\n",
    "positive_count = df['compound'].apply(lambda x: 1 if x >= 0.05 else 0).sum()\n",
    "negative_count = df['compound'].apply(lambda x: 1 if x <= -0.05 else 0).sum()\n",
    "neutral_count = df['compound'].apply(lambda x: 1 if -0.05 < x < 0.05 else 0).sum()\n",
    "\n",
    "# Create a data frame for plotting\n",
    "plot_data = pd.DataFrame({'Sentiment': ['Positive', 'Negative', 'Neutral'],\n",
    "                           'Count': [positive_count, negative_count, neutral_count]})\n",
    "\n",
    "# Plot the bar chart\n",
    "plt.figure(figsize=(8, 6))\n",
    "ax = sns.barplot(x='Sentiment', y='Count', data=plot_data)\n",
    "plt.title('Sentiment Analysis of Reviews')\n",
    "plt.xlabel('Sentiment')\n",
    "plt.ylabel('Number of Reviews')\n",
    "\n",
    "# Rotate x-axis labels for better visibility\n",
    "plt.xticks(rotation=45)\n",
    "\n",
    "# Display the plot\n",
    "plt.show()"
   ]
  },
  {
   "cell_type": "code",
   "execution_count": 15,
   "id": "2cfddcb9",
   "metadata": {},
   "outputs": [],
   "source": [
    "### this is the second part"
   ]
  },
  {
   "cell_type": "code",
   "execution_count": 16,
   "id": "b9a97d42",
   "metadata": {},
   "outputs": [
    {
     "name": "stdout",
     "output_type": "stream",
     "text": [
      "Most common aspects in negative reviews:\n",
      "phone: 6\n",
      "battery: 6\n",
      "camera: 4\n",
      "quality: 4\n",
      "thing: 2\n",
      "image: 2\n",
      "video: 2\n",
      "1hr: 2\n",
      "processing: 1\n",
      "device: 1\n",
      "speed: 1\n",
      "heat: 1\n",
      "cam: 1\n",
      "file: 1\n",
      "jpeg: 1\n",
      "resolution: 1\n",
      "size: 1\n",
      "pixel: 1\n",
      "dont: 1\n",
      "bother: 1\n",
      "shot: 1\n",
      "picture: 1\n",
      "motion: 1\n",
      "capture: 1\n",
      "feature: 1\n",
      "fingerprint: 1\n",
      "senser: 1\n",
      "connectivity: 1\n",
      "delivery: 1\n",
      "agent: 1\n",
      "extra: 1\n",
      "issue: 1\n",
      "detail: 1\n",
      "invoice: 1\n",
      "information: 1\n",
      "alot: 1\n",
      "aur: 1\n",
      "movie: 1\n",
      "bcz: 1\n"
     ]
    }
   ],
   "source": [
    "negative_reviews = df[df['label'] == 'NEG']['content']\n",
    "\n",
    "# Create a dictionary to store the aspect terms and their counts\n",
    "aspect_counts = {}\n",
    "\n",
    "# Load spaCy model for tokenization and lemmatization\n",
    "nlp = spacy.load(\"en_core_web_md\")\n",
    "\n",
    "# Function to extract aspects from negative sentiment\n",
    "def extract_aspects(text):\n",
    "    doc = nlp(text)\n",
    "    aspects = []\n",
    "    for token in doc:\n",
    "        if token.pos_ == \"NOUN\" and not token.is_stop:\n",
    "            aspect = token.lemma_\n",
    "            aspects.append(aspect)\n",
    "    return aspects\n",
    "\n",
    "# Iterate over negative reviews and extract aspects\n",
    "for review in negative_reviews:\n",
    "    aspects = extract_aspects(review)\n",
    "    for aspect in aspects:\n",
    "        if aspect in aspect_counts:\n",
    "            aspect_counts[aspect] += 1\n",
    "        else:\n",
    "            aspect_counts[aspect] = 1\n",
    "\n",
    "# Print the most common aspects in negative reviews\n",
    "common_aspects = sorted(aspect_counts.items(), key=lambda x: x[1], reverse=True)\n",
    "print(\"Most common aspects in negative reviews:\")\n",
    "for aspect, count in common_aspects:\n",
    "    print(f\"{aspect}: {count}\")"
   ]
  },
  {
   "cell_type": "code",
   "execution_count": 17,
   "id": "5110a550",
   "metadata": {
    "scrolled": true
   },
   "outputs": [],
   "source": [
    "absa_tokenizer = AutoTokenizer.from_pretrained(\"yangheng/deberta-v3-base-absa-v1.1\",use_fast=False)\n",
    "absa_model = AutoModelForSequenceClassification.from_pretrained(\"yangheng/deberta-v3-base-absa-v1.1\")"
   ]
  },
  {
   "cell_type": "code",
   "execution_count": 20,
   "id": "89f985ac",
   "metadata": {
    "scrolled": true
   },
   "outputs": [],
   "source": [
    "# Function to perform ABSA on a given sentence and aspect\n",
    "def analyze_aspect_sentiment(sentence, aspect):\n",
    "    inputs = absa_tokenizer(f\"[CLS] {sentence} [SEP] {aspect} [SEP]\", return_tensors=\"pt\")\n",
    "    outputs = absa_model(**inputs)\n",
    "    probs = F.softmax(outputs.logits, dim=1).detach().numpy()[0]\n",
    "    sentiments = {label: prob for label, prob in zip([\"negative\", \"neutral\", \"positive\"], probs)}\n",
    "    return sentiments\n"
   ]
  },
  {
   "cell_type": "code",
   "execution_count": 21,
   "id": "5b5be17b",
   "metadata": {},
   "outputs": [
    {
     "data": {
      "application/vnd.jupyter.widget-view+json": {
       "model_id": "88309b8013a44e8bb7293d0712edb4b9",
       "version_major": 2,
       "version_minor": 0
      },
      "text/plain": [
       "Analyzing aspects:   0%|          | 0/5 [00:00<?, ?it/s]"
      ]
     },
     "metadata": {},
     "output_type": "display_data"
    },
    {
     "name": "stdout",
     "output_type": "stream",
     "text": [
      "Aspect sentiment analysis completed and saved to 'aspect_sentiment_analysis.csv'\n"
     ]
    }
   ],
   "source": [
    "# Create a list to store the ABSA results\n",
    "absa_results = []\n",
    "\n",
    "# Iterate over negative reviews and perform ABSA\n",
    "for review in tqdm(negative_reviews, desc=\"Analyzing aspects\"):\n",
    "    doc = nlp(review)\n",
    "    for chunk in doc.noun_chunks:\n",
    "        aspect = chunk.text\n",
    "        sentiments = analyze_aspect_sentiment(review, aspect)\n",
    "        absa_results.append({\n",
    "            'review': review,\n",
    "            'aspect': aspect,\n",
    "            'negative': sentiments['negative'],\n",
    "            'neutral': sentiments['neutral'],\n",
    "            'positive': sentiments['positive']\n",
    "        })\n",
    "\n",
    "# Convert ABSA results to a DataFrame and save to a new CSV file\n",
    "absa_df = pd.DataFrame(absa_results)\n",
    "absa_df.to_csv('aspect_sentiment_analysis.csv', index=False)\n",
    "\n",
    "print(\"Aspect sentiment analysis completed and saved to 'aspect_sentiment_analysis.csv'\")"
   ]
  }
 ],
 "metadata": {
  "kernelspec": {
   "display_name": "conda_pytorch_p310",
   "language": "python",
   "name": "conda_pytorch_p310"
  },
  "language_info": {
   "codemirror_mode": {
    "name": "ipython",
    "version": 3
   },
   "file_extension": ".py",
   "mimetype": "text/x-python",
   "name": "python",
   "nbconvert_exporter": "python",
   "pygments_lexer": "ipython3",
   "version": "3.10.14"
  }
 },
 "nbformat": 4,
 "nbformat_minor": 5
}
